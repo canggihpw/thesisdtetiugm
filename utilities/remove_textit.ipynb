{
 "cells": [
  {
   "cell_type": "code",
   "execution_count": 1,
   "metadata": {},
   "outputs": [],
   "source": [
    "import re\n",
    "import glob"
   ]
  },
  {
   "cell_type": "code",
   "execution_count": 2,
   "metadata": {},
   "outputs": [],
   "source": [
    "# file path\n",
    "tex_path = '../main/contents/**/*-sum-en.tex'"
   ]
  },
  {
   "cell_type": "code",
   "execution_count": 3,
   "metadata": {},
   "outputs": [],
   "source": [
    "for fpath in glob.glob(tex_path):\n",
    "    with open(fpath, 'r') as f:\n",
    "        text = f.read()\n",
    "\n",
    "    # replace\n",
    "    for pat in [\n",
    "        r\"(\\\\textit{)(.+?)(})\",\n",
    "    ]:\n",
    "        text = re.sub(pat, r\"\\2\", text)\n",
    "\n",
    "    # write\n",
    "    with open(fpath, 'w+') as f:\n",
    "        f.write(text)"
   ]
  },
  {
   "cell_type": "code",
   "execution_count": null,
   "metadata": {},
   "outputs": [],
   "source": []
  }
 ],
 "metadata": {
  "kernelspec": {
   "display_name": "Python 3.8.10 64-bit",
   "language": "python",
   "name": "python3"
  },
  "language_info": {
   "codemirror_mode": {
    "name": "ipython",
    "version": 3
   },
   "file_extension": ".py",
   "mimetype": "text/x-python",
   "name": "python",
   "nbconvert_exporter": "python",
   "pygments_lexer": "ipython3",
   "version": "3.8.10"
  },
  "orig_nbformat": 4,
  "vscode": {
   "interpreter": {
    "hash": "7d9fbcc9d36fec826ec7ea63260f41bcb424332a9e727079e8172fbdc4352c28"
   }
  }
 },
 "nbformat": 4,
 "nbformat_minor": 2
}
